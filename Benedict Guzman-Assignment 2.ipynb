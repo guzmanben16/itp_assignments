{
 "cells": [
  {
   "cell_type": "markdown",
   "metadata": {},
   "source": [
    "# Introduction to Programming (Summer2018)\n",
    "\n",
    "## Assignment 2 (Due date: 02 August 2018, by midnight)"
   ]
  },
  {
   "cell_type": "markdown",
   "metadata": {},
   "source": [
    "### Question 1\n",
    "\n",
    "#### String Handling\n",
    "#### 1.1) \n",
    "Complete the following function which checks whether a DNA sequence is valid. A valid DNA sequence will only contain **'A,a,C,c,G,g,T,t'** characters for this question. If the sequence is valid return **True**, otherwise return **False**.\n",
    "\n",
    "*When running the block, the assert statements will raise errors if your program does not return the correct response.*\n"
   ]
  },
  {
   "cell_type": "code",
   "execution_count": 46,
   "metadata": {},
   "outputs": [],
   "source": [
    "def validity_check(sequence):\n",
    "    user_seq=\"\"\n",
    "    valid_dna_seq=[\"A\",\"C\",\"G\",\"T\",\"a\",\"c\",\"g\",\"t\"]\n",
    "    for seq in sequence:                    \n",
    "        if seq in valid_dna_seq:   \n",
    "            user_seq += dna_seq[seq]\n",
    "        else:\n",
    "            return False\n",
    "            sequence=False\n",
    "    if sequence is not False:\n",
    "        return True\n",
    "            \n",
    "assert validity_check('ACGT') == True, 'validity_check(\"ACGT\") returns False, should return True'\n",
    "assert validity_check('acgt') == True, 'validity_check(\"acgt\") returns False, should return True'\n",
    "assert validity_check('AGUC') == False, 'validity_check(\"AGUC\") returns True, should return False'\n",
    "assert validity_check('PPPP') == False, 'validity_check(\"PPPP\") returns True, should return False'"
   ]
  },
  {
   "cell_type": "markdown",
   "metadata": {},
   "source": [
    "#### 1.2)\n",
    "Complete the following function which will return the reverse complement of a DNA sequence.\n",
    "\n",
    "The reverse complement is calculated by reversing the sequence and substituting: \n",
    "+ 'A' with 'T'\n",
    "+ 'T' with 'A'\n",
    "+ 'G' with 'C'\n",
    "+ 'C' with 'G'\n",
    "\n",
    "EG:\n",
    "```\n",
    "reverse_complement('AATC')\n",
    "\n",
    "step 1 - reverse the sequence:\n",
    "    reverse = 'CTAA'\n",
    "    \n",
    "step 2 - replace the characters with their complement:\n",
    "    'C' -> 'G'\n",
    "    'T' -> 'A'\n",
    "    'A' -> 'T'\n",
    "    'A' -> 'T'\n",
    "    \n",
    "    complement = 'GATT' \n",
    "```\n",
    "\n",
    "*When running the block, the assert statements will raise errors if your program does not return the correct response.*"
   ]
  },
  {
   "cell_type": "code",
   "execution_count": 47,
   "metadata": {},
   "outputs": [],
   "source": [
    "def reverse_complement(sequence):\n",
    "    complement=''\n",
    "    dna_seq={\"A\":\"T\",\"T\":\"A\",\"C\":\"G\", \"G\":\"C\", \"a\":\"t\", \"t\":\"a\", \"c\":\"g\", \"g\":\"c\"}\n",
    "    for nucleotides in sequence[::-1]:\n",
    "        complement += dna_seq[nucleotides]\n",
    "    return (complement)\n",
    "\n",
    "reverse_complement('tgcca')\n",
    "\n",
    "\n",
    "assert reverse_complement('AAGCT') == 'AGCTT', 'reverse_complement(\"AAGCT\") should return \"AGCTT\"'\n",
    "assert reverse_complement('tggca') in ['tgcca','TGCCA'], 'reverse_complement(\"tggca\") should return \"tgcca\"'"
   ]
  },
  {
   "cell_type": "markdown",
   "metadata": {},
   "source": [
    "#### 1.3)\n",
    "\n",
    "Write a script which will allow a user to input multiple DNA sequences one at a time. You do not know how many in advance and should take this into account. Your code will then check if the sequence is valid and return the reverse complement if it is. If the sequence is not valid, print an error message alerting the user to this.\n",
    "\n",
    "It would be a good idea to use the functions you created in 1.1 and 1.2\n",
    "\n",
    "```\n",
    "PSEUDOCODE:\n",
    "loop until '' is entered:\n",
    "    prompt user for a new seq\n",
    "    if seq is valid:\n",
    "        output reverse complement\n",
    "    else\n",
    "        output error message indicating that sequence was invalid\n",
    "```"
   ]
  },
  {
   "cell_type": "code",
   "execution_count": 9,
   "metadata": {},
   "outputs": [
    {
     "name": "stdout",
     "output_type": "stream",
     "text": [
      "Please input your DNA sequence(s). If multiple, separate with a comma ATGC, ATGC\n",
      "The complement DNA strand is TACGTACG\n"
     ]
    }
   ],
   "source": [
    "def dna_database(*dna_sequences):\n",
    "    complement=\"\"\n",
    "    dna_seq={\"A\":\"T\",\"T\":\"A\",\"C\":\"G\", \"G\":\"C\", \"a\":\"t\", \"t\":\"a\", \"c\":\"g\", \"g\":\"c\"}\n",
    "    valid_dna_seq=[\"A\",\"C\",\"G\",\"T\",\"a\",\"c\",\"g\",\"t\"]\n",
    "    \n",
    "    for seq_ in ''.join(dna_sequences):\n",
    "        for seq in seq_[::-1]:                    \n",
    "            if seq in valid_dna_seq:   \n",
    "                complement += dna_seq[seq]\n",
    "            else:\n",
    "                seq_=False\n",
    "    if seq_ is not False:\n",
    "        print(\"The complement DNA strand is {}\" .format(complement))\n",
    "    else: \n",
    "        print(\"Your input contains an invalid DNA sequence\")\n",
    "        \n",
    "\n",
    "dna_sequences=[]\n",
    "while True:\n",
    "    user_input = input(\"Please input your DNA sequence(s). If multiple, separate with a comma \" )\n",
    "    if user_input==\" \":\n",
    "        print(\"please enter another sequence\")\n",
    "    else:\n",
    "        dna_sequences.append(user_input)\n",
    "        break\n",
    "dna_database(*dna_sequences)\n",
    "\n"
   ]
  },
  {
   "cell_type": "markdown",
   "metadata": {},
   "source": [
    "### Question 2\n",
    "\n",
    "In cryptography there are many ways to code messages. An easy method is to shift the alphabet by a given amount, this is known as a Caesar Cipher http://practicalcryptography.com/ciphers/caesar-cipher/.\n",
    "\n",
    "EG:\n",
    "\n",
    "Shift|A|B|C|D|E|F|G|H|I|J|K|L|M|N|O|P|Q|R|S|T|U|V|W|X|Y|Z|\n",
    "-|-|-|-|-|-|-|-|-|-|-|-|-|-|-|-|-|-|-|-|-|-|-|-|-|-|-|\n",
    "1|B|C|D|E|F|G|H|I|J|K|L|M|N|O|P|Q|R|S|T|U|V|W|X|Y|Z|A|\n",
    "2|C|D|E|F|G|H|I|J|K|L|M|N|O|P|Q|R|S|T|U|V|W|X|Y|Z|A|B|\n",
    "10|K|L|M|N|O|P|Q|R|S|T|U|V|W|X|Y|Z|A|B|C|D|E|F|G|H|I|J|\n",
    "\n",
    "In the case of using an alphabet which has been shifted by 1, 'A' will be replaced with 'B', 'B' will be replaced with 'C', ..., 'Z' is replaced with 'A'.\n",
    "\n",
    "#### 2.1)\n",
    "Complete the following function which takes a string and an integer which represents the shift and returns an encoded string."
   ]
  },
  {
   "cell_type": "code",
   "execution_count": 39,
   "metadata": {},
   "outputs": [
    {
     "name": "stdout",
     "output_type": "stream",
     "text": [
      "BCDE\n"
     ]
    }
   ],
   "source": [
    "base_dict={\"A\":1, \"B\":2, \"C\":3, \"D\":4, \"E\":5, \"F\":6, \"G\":7, \"H\":8, \"I\":9, \"J\":10, \"K\":10, \"L\":12, \"M\":13, \"N\":14, \"O\":15, \"P\":16,\n",
    "     \"Q\":17, \"R\":18, \"S\":19, \"T\":20, \"U\":21, \"V\":22, \"W\":23, \"X\":24, \"Y\":25, \"Z\":26}\n",
    "\n",
    "translate_dict= {1:\"A\", 2: \"B\", 3: \"C\", 4: \"D\", 5:\"E\", 6:\"F\", 7:\"G\", 8:\"H\", 9:\"I\", 10:\"J\", 11:\"K\", 12:\"L\", 13:\"M\",14:\"N\", 15:\"O\", 16:\"P\",\n",
    "     17:\"Q\", 18:\"R\", 19:\"S\", 20:\"T\", 21:\"U\", 22:\"V\", 23:\"W\", 24:\"X\", 25:\"Y\", 26:\"Z\"}\n",
    "\n",
    "def encode_string(message, shift=5):\n",
    "    bank=[]\n",
    "    banker=[]\n",
    "    encoder = []\n",
    "    for letters in message:\n",
    "        values=base_dict[letters]\n",
    "        bank.append(values)\n",
    "    for values in bank:\n",
    "        new_val=values+shift\n",
    "        banker.append(new_val)\n",
    "    for new_val in banker:\n",
    "        if new_val >= 27:\n",
    "            new_valua=new_val-values\n",
    "            new_mes=translate_dict[new_valua]\n",
    "            encoder.append(new_mes)\n",
    "        else:\n",
    "            new_mes=translate_dict[new_val]\n",
    "            encoder.append(new_mes)\n",
    "        \n",
    "    return (''.join(encoder))\n",
    "\n",
    "print(encode_string(\"ABCD\", 1))\n",
    "\n",
    "\n",
    "\n",
    "\n",
    "assert encode_string('ABCD', 1) == 'BCDE', \"encode_string('ABCD', 1) should return 'BCDE'\"\n",
    "assert encode_string('FOOBAR', 3) == 'IRREDU', \"encode_string('FOOBAR', 3) should return 'IRREDU'\"\n",
    "assert encode_string('XYZ', 3) == 'ABC', \"encode_string('XYZ', 3) should return 'ABC'\""
   ]
  },
  {
   "cell_type": "markdown",
   "metadata": {},
   "source": [
    "#### 2.2)\n",
    "\n",
    "Complete the following function which takes a string and an integer which represents the shift and returns the decoded message"
   ]
  },
  {
   "cell_type": "code",
   "execution_count": 11,
   "metadata": {},
   "outputs": [
    {
     "name": "stdout",
     "output_type": "stream",
     "text": [
      "FOORBAR\n"
     ]
    }
   ],
   "source": [
    "base_dict={\"A\":1, \"B\":2, \"C\":3, \"D\":4, \"E\":5, \"F\":6, \"G\":7, \"H\":8, \"I\":9, \"J\":10, \"K\":10, \"L\":12, \"M\":13, \"N\":14, \"O\":15, \"P\":16,\n",
    "     \"Q\":17, \"R\":18, \"S\":19, \"T\":20, \"U\":21, \"V\":22, \"W\":23, \"X\":24, \"Y\":25, \"Z\":26}\n",
    "\n",
    "translate_dict= {1:\"A\", 2: \"B\", 3: \"C\", 4: \"D\", 5:\"E\", 6:\"F\", 7:\"G\", 8:\"H\", 9:\"I\", 10:\"J\", 11:\"K\", 12:\"L\", 13:\"M\",14:\"N\", 15:\"O\", 16:\"P\",\n",
    "     17:\"Q\", 18:\"R\", 19:\"S\", 20:\"T\", 21:\"U\", 22:\"V\", 23:\"W\", 24:\"X\", 25:\"Y\", 26:\"Z\"}\n",
    "\n",
    "def decode_string(message, shift=5):\n",
    "    bank=[]\n",
    "    banker=[]\n",
    "    decoder = []\n",
    "    for letters in message:\n",
    "        values=base_dict[letters]\n",
    "        bank.append(values)\n",
    "    for values in bank:\n",
    "        new_val=values-shift\n",
    "        if new_val <= 0:\n",
    "            new_val = ((26 + values) - shift)\n",
    "            banker.append(new_val)\n",
    "        else:\n",
    "            banker.append(new_val)\n",
    "    for new_val in banker:\n",
    "        new_mes=translate_dict[new_val]\n",
    "        decoder.append(new_mes)\n",
    "    \n",
    "    return (''.join(decoder))\n",
    "        \n",
    "\n",
    "print(decode_string(encode_string('FOORBAR', 3), 3))\n",
    "\n",
    "\n",
    "assert decode_string('MNO', 10) == 'CDE', \"decode_string('MNO', 10) should return 'CDE'\"\n",
    "assert decode_string('PYTHON', 5) == 'KTOCJI', \"decode_string('PYTHON') should return 'KTOCJI'\"\n",
    "\n",
    "assert decode_string(encode_string('ABCD', 1), 1) == 'ABCD', \"decode_string(encode_string('ABCD', 1), 1) should return 'ABCD'\"\n",
    "assert decode_string(encode_string('FOOBAR', 3), 3) == 'FOOBAR', \"decode_string(encode_string('FOOBAR', 3), 3) should return 'FOOBAR'\"\n",
    "assert decode_string(encode_string('XYZ', 1), 1) == 'XYZ', \"decode_string(encode_string('XYZ', 1), 1) should return 'XYZ'\""
   ]
  },
  {
   "cell_type": "markdown",
   "metadata": {},
   "source": [
    "### Question 3\n",
    "\n",
    "Write code which will reproduce each of the following patterns given an input size N\n",
    "\n",
    "Example:\n",
    "\n",
    "```\n",
    "N = 10\n",
    "\n",
    " x x x x x x x x x x\n",
    " x o x o x o x o x o\n",
    " x x x x x x x x x x\n",
    " x o x o x o x o x o\n",
    " x x x x x x x x x x\n",
    " x o x o x o x o x o\n",
    " x x x x x x x x x x\n",
    " x o x o x o x o x o\n",
    " x x x x x x x x x x\n",
    " x o x o x o x o x o\n",
    "\n",
    "```"
   ]
  },
  {
   "cell_type": "markdown",
   "metadata": {},
   "source": [
    "#### 3.1)\n",
    "\n",
    "```\n",
    "N = 10\n",
    "\n",
    " x x x x x x x x x x\n",
    " x o o o o o o o o x\n",
    " x o o o o o o o o x\n",
    " x o o o o o o o o x\n",
    " x o o o o o o o o x\n",
    " x o o o o o o o o x\n",
    " x o o o o o o o o x\n",
    " x o o o o o o o o x\n",
    " x o o o o o o o o x\n",
    " x x x x x x x x x x\n",
    "```"
   ]
  },
  {
   "cell_type": "code",
   "execution_count": 16,
   "metadata": {},
   "outputs": [
    {
     "name": "stdout",
     "output_type": "stream",
     "text": [
      " x x x x x x x x x x\n",
      " x o o o o o o o o x\n",
      " x o o o o o o o o x\n",
      " x o o o o o o o o x\n",
      " x o o o o o o o o x\n",
      " x o o o o o o o o x\n",
      " x o o o o o o o o x\n",
      " x o o o o o o o o x\n",
      " x o o o o o o o o x\n",
      " x x x x x x x x x x\n"
     ]
    }
   ],
   "source": [
    "N = 10\n",
    "pattern = [[' x' for y in range(N)] for x in range(N)]\n",
    "\n",
    "for j in range(N):\n",
    "    for i  in range(N):\n",
    "        if min(range(N)) < j < max(range(N)) and min(range(N)) < i < max(range(N)):\n",
    "            pattern[j][i] = ' o'\n",
    "for row in pattern:\n",
    "    print(''.join(row))\n",
    "    "
   ]
  },
  {
   "cell_type": "markdown",
   "metadata": {},
   "source": [
    "#### 3.2)\n",
    "\n",
    "```\n",
    "N = 9\n",
    "\n",
    " x o o o o o o o x\n",
    " o x o o o o o x o\n",
    " o o x o o o x o o\n",
    " o o o x o x o o o\n",
    " o o o o x o o o o\n",
    " o o o x o x o o o\n",
    " o o x o o o x o o\n",
    " o x o o o o o x o\n",
    " x o o o o o o o x\n",
    " \n",
    "N = 10\n",
    "\n",
    " x o o o o o o o o x\n",
    " o x o o o o o o x o\n",
    " o o x o o o o x o o\n",
    " o o o x o o x o o o\n",
    " o o o o x x o o o o\n",
    " o o o o x x o o o o\n",
    " o o o x o o x o o o\n",
    " o o x o o o o x o o\n",
    " o x o o o o o o x o\n",
    " x o o o o o o o o x\n",
    "\n",
    "\n",
    "```"
   ]
  },
  {
   "cell_type": "code",
   "execution_count": 41,
   "metadata": {},
   "outputs": [
    {
     "name": "stdout",
     "output_type": "stream",
     "text": [
      " x o o o o o o o x\n",
      " o x o o o o o x o\n",
      " o o x o o o x o o\n",
      " o o o x o x o o o\n",
      " o o o o x o o o o\n",
      " o o o x o x o o o\n",
      " o o x o o o x o o\n",
      " o x o o o o o x o\n",
      " x o o o o o o o x\n"
     ]
    }
   ],
   "source": [
    "N = 9\n",
    "pattern = [[' o' for y in range(N)] for x in range(N)]\n",
    "\n",
    "for j in range(N):\n",
    "    for i  in range(N):\n",
    "        if i-j==0 or i+j==max(range(N)):\n",
    "            pattern[j][i] = ' x'\n",
    "for row in pattern:\n",
    "    print(''.join(row))\n"
   ]
  },
  {
   "cell_type": "code",
   "execution_count": 16,
   "metadata": {},
   "outputs": [
    {
     "name": "stdout",
     "output_type": "stream",
     "text": [
      " x o o o o o o o o x\n",
      " o x o o o o o o x o\n",
      " o o x o o o o x o o\n",
      " o o o x o o x o o o\n",
      " o o o o x x o o o o\n",
      " o o o o x x o o o o\n",
      " o o o x o o x o o o\n",
      " o o x o o o o x o o\n",
      " o x o o o o o o x o\n",
      " x o o o o o o o o x\n"
     ]
    }
   ],
   "source": [
    "N = 10\n",
    "pattern = [[' o' for y in range(N)] for x in range(N)]\n",
    "\n",
    "for j in range(N):\n",
    "    for i  in range(N):\n",
    "        if i-j==0 or i+j - N + 1==0:\n",
    "            pattern[j][i] = ' x'\n",
    "for row in pattern:\n",
    "    print(''.join(row))\n",
    "    "
   ]
  },
  {
   "cell_type": "markdown",
   "metadata": {},
   "source": [
    "#### 3.3)\n",
    "\n",
    "```\n",
    "N = 10\n",
    "\n",
    " o x o x o x o x o x\n",
    " x o x o x o x o x o\n",
    " o x o x o x o x o x\n",
    " x o x o x o x o x o\n",
    " o x o x o x o x o x\n",
    " x o x o x o x o x o\n",
    " o x o x o x o x o x\n",
    " x o x o x o x o x o\n",
    " o x o x o x o x o x\n",
    " x o x o x o x o x o\n",
    "\n",
    "```"
   ]
  },
  {
   "cell_type": "code",
   "execution_count": 17,
   "metadata": {},
   "outputs": [
    {
     "name": "stdout",
     "output_type": "stream",
     "text": [
      " o x o x o x o x o x\n",
      " x o x o x o x o x o\n",
      " o x o x o x o x o x\n",
      " x o x o x o x o x o\n",
      " o x o x o x o x o x\n",
      " x o x o x o x o x o\n",
      " o x o x o x o x o x\n",
      " x o x o x o x o x o\n",
      " o x o x o x o x o x\n",
      " x o x o x o x o x o\n"
     ]
    }
   ],
   "source": [
    "N = 10\n",
    "pattern = [[' x' for y in range(N)] for x in range(N)]\n",
    "\n",
    "for j in range(N):\n",
    "    for i  in range(N):\n",
    "        if i==j or (j-i)%2==0:\n",
    "            pattern[j][i] = ' o'\n",
    "for row in pattern:\n",
    "    print(''.join(row))\n",
    "    "
   ]
  },
  {
   "cell_type": "markdown",
   "metadata": {},
   "source": [
    "#### 3.4)\n",
    "\n",
    "```\n",
    "N = 9\n",
    " x x x x x x x x x\n",
    " x x x x o x x x x\n",
    " x x x o o o x x x\n",
    " x x o o o o o x x\n",
    " x o o o o o o o x\n",
    " x x o o o o o x x\n",
    " x x x o o o x x x\n",
    " x x x x o x x x x\n",
    " x x x x x x x x x\n",
    "\n",
    "\n",
    "N = 10\n",
    "\n",
    " x x x x x x x x x x\n",
    " x x x x o o x x x x\n",
    " x x x o o o o x x x\n",
    " x x o o o o o o x x\n",
    " x o o o o o o o o x\n",
    " x o o o o o o o o x\n",
    " x x o o o o o o x x\n",
    " x x x o o o o x x x\n",
    " x x x x o o x x x x\n",
    " x x x x x x x x x x\n",
    "```"
   ]
  },
  {
   "cell_type": "code",
   "execution_count": 264,
   "metadata": {},
   "outputs": [
    {
     "name": "stdout",
     "output_type": "stream",
     "text": [
      " x x x x x x x\n",
      " x o o o x x x\n",
      " x o o o o x x\n",
      " x o o o o o x\n",
      " x x o o o o x\n",
      " x x x o o o x\n",
      " x x x x x x x\n"
     ]
    }
   ],
   "source": [
    "N = 7\n",
    "pattern = [[' x' for y in range(N)] for x in range(N)]\n",
    "\n",
    "for j in range(N):\n",
    "    for i  in range(N):\n",
    "        x=(N//2)\n",
    "        for values in range(x):\n",
    "            if abs(x-(values+1))<x and abs(i-j)<x:\n",
    "                if min(range(N)) < j < max(range(N)) and min(range(N)) < i < max(range(N)):  \n",
    "                        pattern[j][i] = ' o'          \n",
    "for row in pattern:\n",
    "    print(''.join(row))"
   ]
  }
 ],
 "metadata": {
  "kernelspec": {
   "display_name": "Python 3",
   "language": "python",
   "name": "python3"
  },
  "language_info": {
   "codemirror_mode": {
    "name": "ipython",
    "version": 3
   },
   "file_extension": ".py",
   "mimetype": "text/x-python",
   "name": "python",
   "nbconvert_exporter": "python",
   "pygments_lexer": "ipython3",
   "version": "3.6.5"
  }
 },
 "nbformat": 4,
 "nbformat_minor": 2
}
