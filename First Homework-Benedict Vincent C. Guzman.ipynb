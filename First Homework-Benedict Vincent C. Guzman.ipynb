{
 "cells": [
  {
   "cell_type": "markdown",
   "metadata": {},
   "source": [
    "# Question 1"
   ]
  },
  {
   "cell_type": "code",
   "execution_count": 1,
   "metadata": {
    "scrolled": true
   },
   "outputs": [
    {
     "name": "stdout",
     "output_type": "stream",
     "text": [
      "<class 'int'> 12\n",
      "<class 'int'> -2\n",
      "<class 'int'> 35\n",
      "<class 'float'> 0.7142857142857143\n",
      "<class 'int'> 78125\n"
     ]
    }
   ],
   "source": [
    "print(type(5+7),5+7)#addition\n",
    "print(type(5-7),5-7)#subtraction\n",
    "print(type(5*7),5*7)#multiplication\n",
    "print(type(5/7),5/7)#division\n",
    "print(type(5**7),5**7)#power"
   ]
  },
  {
   "cell_type": "markdown",
   "metadata": {},
   "source": [
    "# Question 2"
   ]
  },
  {
   "cell_type": "code",
   "execution_count": null,
   "metadata": {},
   "outputs": [],
   "source": [
    "number1 = int(input(\"first integer\"))\n",
    "number2 = int(input(\"second integer\"))\n",
    "\n",
    "result_addition = number1 + number2 #addition\n",
    "result_subtraction = number1 - number2 #subtraction\n",
    "result_multiplication = number1 * number2 #multiplication\n",
    "result_division = number1 / number2 #division\n",
    "result_power = number1 ** number2 #power\n",
    "\n",
    "assert result_addition == number1 + number2, \"{} != {} + {}\".format(result_addition, number1, number2)\n",
    "assert result_subtraction == number1 - number2, \"{} != {} - {}\".format(result_addition, number1, number2)\n",
    "assert result_multiplication == number1 * number2, \"{} != {} * {}\".format(result_addition, number1, number2)\n",
    "assert result_division == number1 / number2, \"{} != {} / {}\".format(result_addition, number1, number2)\n",
    "assert result_power == number1 ** number2, \"{} != {} ** {}\".format(result_addition, number1, number2)"
   ]
  },
  {
   "cell_type": "markdown",
   "metadata": {},
   "source": [
    "# Question 3"
   ]
  },
  {
   "cell_type": "markdown",
   "metadata": {},
   "source": [
    "# 3.1"
   ]
  },
  {
   "cell_type": "code",
   "execution_count": 1,
   "metadata": {},
   "outputs": [
    {
     "name": "stdout",
     "output_type": "stream",
     "text": [
      "Your number10\n",
      "The number is positive\n"
     ]
    }
   ],
   "source": [
    "y=int(input(\"Your number\"))\n",
    "\n",
    "if y<0:\n",
    "    print(\"The number is negative\")   \n",
    "else:\n",
    "    if y>=0:\n",
    "        print(\"The number is positive\")"
   ]
  },
  {
   "cell_type": "markdown",
   "metadata": {},
   "source": [
    "# 3.2"
   ]
  },
  {
   "cell_type": "code",
   "execution_count": 13,
   "metadata": {},
   "outputs": [
    {
     "name": "stdout",
     "output_type": "stream",
     "text": [
      "Your number10\n",
      "The number is positive and even.\n"
     ]
    }
   ],
   "source": [
    "y=int(input(\"Your number\"))\n",
    "\n",
    "if y % 2 == 0 and y < 0:\n",
    "    print(\"The number is negative and even.\")\n",
    "elif y % 2 != 0 and y < 0:\n",
    "    print(\"The number is negative and odd.\")\n",
    "elif y % 2 == 0 and y >= 0:\n",
    "    print(\"The number is positive and even.\")\n",
    "elif y % 2 != 0 and y >= 0:\n",
    "    print(\"The number is positive and odd.\")"
   ]
  },
  {
   "cell_type": "markdown",
   "metadata": {},
   "source": [
    "# 3.3"
   ]
  },
  {
   "cell_type": "code",
   "execution_count": 15,
   "metadata": {},
   "outputs": [
    {
     "name": "stdout",
     "output_type": "stream",
     "text": [
      "Pick any numbernba\n",
      "Error, the value which was input is not an integer\n"
     ]
    },
    {
     "ename": "TypeError",
     "evalue": "not all arguments converted during string formatting",
     "output_type": "error",
     "traceback": [
      "\u001b[1;31m---------------------------------------------------------------------------\u001b[0m",
      "\u001b[1;31mTypeError\u001b[0m                                 Traceback (most recent call last)",
      "\u001b[1;32m<ipython-input-15-b23092cf742e>\u001b[0m in \u001b[0;36m<module>\u001b[1;34m()\u001b[0m\n\u001b[0;32m      6\u001b[0m     \u001b[0mprint\u001b[0m\u001b[1;33m(\u001b[0m\u001b[1;34m\"Error, the value which was input is not an integer\"\u001b[0m\u001b[1;33m)\u001b[0m\u001b[1;33m\u001b[0m\u001b[0m\n\u001b[0;32m      7\u001b[0m \u001b[1;33m\u001b[0m\u001b[0m\n\u001b[1;32m----> 8\u001b[1;33m \u001b[1;32mif\u001b[0m \u001b[0my\u001b[0m \u001b[1;33m%\u001b[0m \u001b[1;36m2\u001b[0m \u001b[1;33m==\u001b[0m \u001b[1;36m0\u001b[0m \u001b[1;32mand\u001b[0m \u001b[0my\u001b[0m \u001b[1;33m<\u001b[0m \u001b[1;36m0\u001b[0m\u001b[1;33m:\u001b[0m\u001b[1;33m\u001b[0m\u001b[0m\n\u001b[0m\u001b[0;32m      9\u001b[0m     \u001b[0mprint\u001b[0m\u001b[1;33m(\u001b[0m\u001b[1;34m\"The number is negative and even.\"\u001b[0m\u001b[1;33m)\u001b[0m\u001b[1;33m\u001b[0m\u001b[0m\n\u001b[0;32m     10\u001b[0m \u001b[1;32melif\u001b[0m \u001b[0my\u001b[0m \u001b[1;33m%\u001b[0m \u001b[1;36m2\u001b[0m \u001b[1;33m!=\u001b[0m \u001b[1;36m0\u001b[0m \u001b[1;32mand\u001b[0m \u001b[0my\u001b[0m \u001b[1;33m<\u001b[0m \u001b[1;36m0\u001b[0m\u001b[1;33m:\u001b[0m\u001b[1;33m\u001b[0m\u001b[0m\n",
      "\u001b[1;31mTypeError\u001b[0m: not all arguments converted during string formatting"
     ]
    }
   ],
   "source": [
    "y=input(\"Pick any number\")\n",
    "\n",
    "try:\n",
    "    y=int(y)\n",
    "except:\n",
    "    print(\"Error, the value which was input is not an integer\")    \n",
    "\n",
    "if y % 2 == 0 and y < 0:\n",
    "    print(\"The number is negative and even.\")\n",
    "elif y % 2 != 0 and y < 0:\n",
    "    print(\"The number is negative and odd.\")\n",
    "elif y % 2 == 0 and y >= 0:\n",
    "    print(\"The number is positive and even.\")\n",
    "elif y % 2 != 0 and y >= 0:\n",
    "    print(\"The number is positive and odd.\")"
   ]
  },
  {
   "cell_type": "markdown",
   "metadata": {},
   "source": [
    "# Question 4"
   ]
  },
  {
   "cell_type": "markdown",
   "metadata": {},
   "source": [
    "# 4.1"
   ]
  },
  {
   "cell_type": "code",
   "execution_count": 17,
   "metadata": {},
   "outputs": [
    {
     "name": "stdout",
     "output_type": "stream",
     "text": [
      "Enter n6\n",
      "* Character\n",
      "---------\n",
      "*\n",
      "**\n",
      "***\n",
      "****\n",
      "*****\n",
      "******\n",
      "Row Index\n",
      "---------\n",
      "0\n",
      "1  1\n",
      "2  2  2\n",
      "3  3  3  3\n",
      "4  4  4  4  4\n",
      "5  5  5  5  5  5\n",
      "Row Index\n",
      "---------\n",
      "0\n",
      "0  1\n",
      "0  1  2\n",
      "0  1  2  3\n",
      "0  1  2  3  4\n",
      "0  1  2  3  4  5\n",
      "Cumulative Index\n",
      "---------\n",
      "0\n",
      "1  2\n",
      "3  4  5\n",
      "6  7  8  9\n",
      "10 11 12 13 14\n",
      "15 16 17 18 19 20\n"
     ]
    }
   ],
   "source": [
    "n = int(input(\"Enter n\"))\n",
    "\n",
    "# USING '*' AS THE CHARACTER\n",
    "print('* Character\\n---------')\n",
    "for j in range(n):\n",
    "    line = '*'\n",
    "    for i in range(j):\n",
    "        line += '*'\n",
    "    print(line)\n",
    "\n",
    "# USING THE ROW INDEX AS THE CHARACTER\n",
    "print('Row Index\\n---------')\n",
    "for j in range(n):\n",
    "    line = str(j)\n",
    "    for i in range(j):\n",
    "        line += '{:>3}'.format(j)\n",
    "    print(line)\n",
    "\n",
    "# USING THE COL INDEX AS THE CHARACTER\n",
    "print('Row Index\\n---------')\n",
    "for j in range(n):\n",
    "    line = '0'\n",
    "    for i in range(j):\n",
    "        line += '{:>3}'.format(i+1)\n",
    "    print(line)\n",
    "        \n",
    "# USING THE CUMULATIVE INDEX AS THE CHARACTER\n",
    "print('Cumulative Index\\n---------')\n",
    "for j in range(n):\n",
    "    line = str(int(j*(j+1)/2))\n",
    "    for i in range(j):\n",
    "        line += '{:>3}'.format(int(j*(j+1)/2)+(i+1))\n",
    "    print(line)"
   ]
  },
  {
   "cell_type": "markdown",
   "metadata": {},
   "source": [
    "# 4.2"
   ]
  },
  {
   "cell_type": "code",
   "execution_count": 22,
   "metadata": {
    "scrolled": false
   },
   "outputs": [
    {
     "name": "stdout",
     "output_type": "stream",
     "text": [
      "Enter n3\n",
      "Enter m2\n",
      "* Character\n",
      "---------\n",
      "**\n",
      "**\n",
      "**\n",
      "Row Index\n",
      "---------\n",
      "  0  0\n",
      "  1  1\n",
      "  2  2\n",
      "Row Index\n",
      "---------\n",
      "  0  1\n",
      "  0  1\n",
      "  0  1\n",
      "Cumulative Index\n",
      "---------\n",
      "  0  1\n",
      "  2  3\n",
      "  4  5\n"
     ]
    }
   ],
   "source": [
    "n = int(input(\"Enter n\"))\n",
    "m = int(input(\"Enter m\"))\n",
    "\n",
    "# USING '*' AS THE CHARACTER\n",
    "print('* Character\\n---------')\n",
    "for j in range(n):\n",
    "    line = ''\n",
    "    for i in range(m):\n",
    "        line += '*'\n",
    "    print(line)\n",
    "\n",
    "# USING THE ROW INDEX AS THE CHARACTER\n",
    "print('Row Index\\n---------')\n",
    "for j in range(n):\n",
    "    line = ''\n",
    "    for i in range(m):\n",
    "        line += '{:>3}'.format(j)\n",
    "    print(line)\n",
    "\n",
    "# USING THE COLUMN INDEX AS THE CHARACTER\n",
    "print('Row Index\\n---------')\n",
    "for j in range(n):\n",
    "    line = ''\n",
    "    for i in range(m):\n",
    "        line += '{:>3}'.format(i)\n",
    "    print(line)\n",
    "\n",
    "# USING THE CUMULATIVE INDEX AS THE CHARACTER\n",
    "print('Cumulative Index\\n---------')\n",
    "for j in range(n):\n",
    "    line = ''\n",
    "    for i in range(m):\n",
    "        line += '{:>3}'.format(j*m+i)\n",
    "    print(line)"
   ]
  },
  {
   "cell_type": "markdown",
   "metadata": {},
   "source": [
    "# Question 5"
   ]
  },
  {
   "cell_type": "code",
   "execution_count": 23,
   "metadata": {},
   "outputs": [
    {
     "name": "stdout",
     "output_type": "stream",
     "text": [
      "[1, 2, 3, 5, 7, 11, 13, 17, 19, 23, 29, 31, 37, 41, 43, 47, 53, 59, 61, 67, 71, 73, 79, 83, 89, 97]\n"
     ]
    }
   ],
   "source": [
    "results = [] \n",
    "for i in range(1, 101):\n",
    "    prime=True\n",
    "    for j in range(2, i//2+1):\n",
    "        if i%j is 0:\n",
    "            prime=False\n",
    "    if prime is True:\n",
    "        results += [i]\n",
    "\n",
    "print(results)       \n",
    "# expected output: [1, 2, 3, 5, 7, 11, 13, 17, 19, 23, 29, 31, 37, 41, 43, 47, 53, 59, 61, 67, 71, 73, 79, 83, 89, 97]"
   ]
  }
 ],
 "metadata": {
  "kernelspec": {
   "display_name": "Python 3",
   "language": "python",
   "name": "python3"
  },
  "language_info": {
   "codemirror_mode": {
    "name": "ipython",
    "version": 3
   },
   "file_extension": ".py",
   "mimetype": "text/x-python",
   "name": "python",
   "nbconvert_exporter": "python",
   "pygments_lexer": "ipython3",
   "version": "3.6.5"
  }
 },
 "nbformat": 4,
 "nbformat_minor": 2
}
